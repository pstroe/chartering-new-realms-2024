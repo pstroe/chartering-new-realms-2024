{
 "cells": [
  {
   "cell_type": "markdown",
   "id": "af0bb81f",
   "metadata": {},
   "source": [
    "---\n",
    "thebe: true\n",
    "kernelspec:\n",
    "  display_name: Python 3\n",
    "  language: python\n",
    "  name: python3\n",
    "jupytertext:\n",
    "  formats: md:nyst\n",
    "  text_representation:\n",
    "    extension: .md\n",
    "  format_name: myst\n",
    "  format_version: '0.13'\n",
    "  jupytext_version: 1.11.5\n",
    "\n",
    "```{code-cell} python\n",
    "print(\"Hello, World!\")\n",
    "---\n"
   ]
  }
 ],
 "metadata": {
  "jupytext": {
   "cell_metadata_filter": "-all",
   "main_language": "python",
   "notebook_metadata_filter": "-all"
  },
  "language_info": {
   "name": "python"
  }
 },
 "nbformat": 4,
 "nbformat_minor": 5
}
