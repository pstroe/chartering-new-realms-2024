{
 "cells": [
  {
   "cell_type": "markdown",
   "metadata": {},
   "source": [
    "## Data Analysis"
   ]
  },
  {
   "cell_type": "code",
   "execution_count": 2,
   "metadata": {},
   "outputs": [],
   "source": [
    "import re"
   ]
  },
  {
   "cell_type": "markdown",
   "metadata": {},
   "source": [
    "# OEB"
   ]
  },
  {
   "cell_type": "code",
   "execution_count": 3,
   "metadata": {},
   "outputs": [
    {
     "name": "stdout",
     "output_type": "stream",
     "text": [
      "Extraction complete! 11722 verses written to OEB_combined.tsv\n"
     ]
    }
   ],
   "source": [
    "import re\n",
    "\n",
    "# File paths\n",
    "input_file = 'OEB.txt'\n",
    "output_tsv_file = 'OEB_combined.tsv'\n",
    "\n",
    "# Book names extracted from the table of contents\n",
    "book_names = [\n",
    "    \"Ruth\", \"Esther\", \"Psalms\", \"Hosea\", \"Joel\", \"Amos\", \"Obadiah\", \"Jonah\", \n",
    "    \"Micah\", \"Nahum\", \"Habakkuk\", \"Zephaniah\", \"Haggai\", \"Zechariah\", \"Malachi\",\n",
    "    \"Matthew\", \"Mark\", \"Luke\", \"John\", \"Acts\", \"Romans\", \"1 Corinthians\", \n",
    "    \"2 Corinthians\", \"Galatians\", \"Ephesians\", \"Philippians\", \"Colossians\", \n",
    "    \"1 Thessalonians\", \"2 Thessalonians\", \"1 Timothy\", \"2 Timothy\", \"Titus\", \n",
    "    \"Philemon\", \"Hebrews\", \"James\", \"1 Peter\", \"2 Peter\", \"1 John\", \"2 John\", \n",
    "    \"3 John\", \"Jude\", \"Revelation\"\n",
    "]\n",
    "\n",
    "# Regex pattern to detect verses\n",
    "verse_pattern = re.compile(r\"\\[(\\d+:\\d+)\\]\\s+(.+?)(?=\\[\\d+:\\d+\\]|$)\")\n",
    "\n",
    "# Data collection\n",
    "combined_data = []\n",
    "current_book = None\n",
    "\n",
    "# Use the order of books from the table of contents to infer context\n",
    "book_index = 0\n",
    "\n",
    "with open(input_file, 'r', encoding='utf-8') as file:\n",
    "    for line in file:\n",
    "        line = line.strip()\n",
    "\n",
    "        # Detect verses\n",
    "        for verse_match in verse_pattern.finditer(line):\n",
    "            verse_id, verse_text = verse_match.groups()\n",
    "            chapter_num, verse_num = verse_id.split(\":\")\n",
    "\n",
    "            # Assign current book based on the detected order in the text\n",
    "            if current_book is None or len(combined_data) > 0 and int(chapter_num) == 1 and int(verse_num) == 1:\n",
    "                current_book = book_names[book_index]\n",
    "                book_index += 1\n",
    "\n",
    "            # Collect data\n",
    "            combined_data.append((current_book, chapter_num, verse_num, verse_text.strip()))\n",
    "\n",
    "# Write the data to the TSV file\n",
    "with open(output_tsv_file, 'w', encoding='utf-8') as out_file:\n",
    "    out_file.write(\"Book\\tChapter\\tVerse\\tText\\n\")\n",
    "    for entry in combined_data:\n",
    "        out_file.write(\"\\t\".join(entry) + \"\\n\")\n",
    "\n",
    "print(f\"Extraction complete! {len(combined_data)} verses written to {output_tsv_file}\")\n"
   ]
  },
  {
   "cell_type": "markdown",
   "metadata": {},
   "source": [
    "# WEB"
   ]
  },
  {
   "cell_type": "code",
   "execution_count": 4,
   "metadata": {},
   "outputs": [
    {
     "data": {
      "text/plain": [
       "(31102, 'WEB_combined.tsv')"
      ]
     },
     "execution_count": 4,
     "metadata": {},
     "output_type": "execute_result"
    }
   ],
   "source": [
    "# Unified processing for the World English Bible (WEB)\n",
    "\n",
    "input_web_file = 'WEB.txt'\n",
    "output_web_tsv_file = 'WEB_combined.tsv'\n",
    "\n",
    "# Regex patterns for books, chapters, and verses\n",
    "book_pattern = re.compile(r\"^Book \\d+\\s+(.+)$\")  # Matches lines like \"Book 01 Genesis\"\n",
    "verse_pattern = re.compile(r\"^(\\d{3}):(\\d{3})\\s+(.+)$\")  # Matches lines like \"001:001 Text\"\n",
    "\n",
    "# Data collection\n",
    "web_data = []\n",
    "current_book = None\n",
    "\n",
    "with open(input_web_file, 'r', encoding='utf-8') as file:\n",
    "    for line in file:\n",
    "        line = line.strip()\n",
    "\n",
    "        # Detect book titles\n",
    "        book_match = book_pattern.match(line)\n",
    "        if book_match:\n",
    "            current_book = book_match.group(1).strip()\n",
    "            continue\n",
    "\n",
    "        # Detect verses\n",
    "        verse_match = verse_pattern.match(line)\n",
    "        if verse_match and current_book:\n",
    "            chapter_num, verse_num, verse_text = verse_match.groups()\n",
    "            web_data.append((current_book, chapter_num, verse_num, verse_text.strip()))\n",
    "\n",
    "# Write data to a single TSV file\n",
    "with open(output_web_tsv_file, 'w', encoding='utf-8') as out_file:\n",
    "    out_file.write(\"Book\\tChapter\\tVerse\\tText\\n\")\n",
    "    for entry in web_data:\n",
    "        out_file.write(\"\\t\".join(entry) + \"\\n\")\n",
    "\n",
    "len(web_data), output_web_tsv_file\n"
   ]
  },
  {
   "cell_type": "markdown",
   "metadata": {},
   "source": [
    "## KJV"
   ]
  },
  {
   "cell_type": "code",
   "execution_count": 6,
   "metadata": {},
   "outputs": [
    {
     "name": "stdout",
     "output_type": "stream",
     "text": [
      "Old Testament verses: 18963\n",
      "New Testament verses: 6032\n"
     ]
    }
   ],
   "source": [
    "import re\n",
    "\n",
    "# Input and output files\n",
    "input_kjv_file = 'KJV.txt'\n",
    "output_ot_file = 'KJV_OT.tsv'\n",
    "output_nt_file = 'KJV_NT.tsv'\n",
    "\n",
    "# Markers for Old and New Testaments\n",
    "ot_marker = \"The Old Testament of the King James Version of the Bible\"\n",
    "nt_marker = \"The New Testament of the King James Bible\"\n",
    "\n",
    "# Verse pattern: Matches \"Chapter:Verse Text\"\n",
    "verse_pattern = re.compile(r\"(\\d+):(\\d+)\\s+(.+)\")\n",
    "\n",
    "# Data containers\n",
    "ot_data = []\n",
    "nt_data = []\n",
    "current_testament = None\n",
    "current_text = []\n",
    "current_chapter, current_verse = None, None\n",
    "\n",
    "with open(input_kjv_file, 'r', encoding='utf-8') as file:\n",
    "    for line in file:\n",
    "        line = line.strip()\n",
    "\n",
    "        # Detect Testament markers\n",
    "        if ot_marker in line:\n",
    "            current_testament = 'OT'\n",
    "            continue\n",
    "        elif nt_marker in line:\n",
    "            current_testament = 'NT'\n",
    "            continue\n",
    "\n",
    "        # Detect verses\n",
    "        verse_match = verse_pattern.match(line)\n",
    "        if verse_match:\n",
    "            # Save the previous verse\n",
    "            if current_chapter and current_verse:\n",
    "                full_text = \" \".join(current_text).strip()\n",
    "                if current_testament == 'OT':\n",
    "                    ot_data.append((current_chapter, current_verse, full_text))\n",
    "                elif current_testament == 'NT':\n",
    "                    nt_data.append((current_chapter, current_verse, full_text))\n",
    "\n",
    "            # Start a new verse\n",
    "            current_chapter, current_verse, text = verse_match.groups()\n",
    "            current_text = [text]\n",
    "        else:\n",
    "            # Accumulate lines for the current verse\n",
    "            current_text.append(line)\n",
    "\n",
    "    # Save the last verse\n",
    "    if current_chapter and current_verse:\n",
    "        full_text = \" \".join(current_text).strip()\n",
    "        if current_testament == 'OT':\n",
    "            ot_data.append((current_chapter, current_verse, full_text))\n",
    "        elif current_testament == 'NT':\n",
    "            nt_data.append((current_chapter, current_verse, full_text))\n",
    "\n",
    "# Write data to TSV files\n",
    "with open(output_ot_file, 'w', encoding='utf-8') as ot_file:\n",
    "    ot_file.write(\"Chapter\\tVerse\\tText\\n\")\n",
    "    for entry in ot_data:\n",
    "        ot_file.write(\"\\t\".join(entry) + \"\\n\")\n",
    "\n",
    "with open(output_nt_file, 'w', encoding='utf-8') as nt_file:\n",
    "    nt_file.write(\"Chapter\\tVerse\\tText\\n\")\n",
    "    for entry in nt_data:\n",
    "        nt_file.write(\"\\t\".join(entry) + \"\\n\")\n",
    "\n",
    "print(f\"Old Testament verses: {len(ot_data)}\")\n",
    "print(f\"New Testament verses: {len(nt_data)}\")"
   ]
  }
 ],
 "metadata": {
  "kernelspec": {
   "display_name": "Python 3",
   "language": "python",
   "name": "python3"
  },
  "language_info": {
   "codemirror_mode": {
    "name": "ipython",
    "version": 3
   },
   "file_extension": ".py",
   "mimetype": "text/x-python",
   "name": "python",
   "nbconvert_exporter": "python",
   "pygments_lexer": "ipython3",
   "version": "3.12.3"
  }
 },
 "nbformat": 4,
 "nbformat_minor": 2
}
