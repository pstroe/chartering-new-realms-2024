{
 "cells": [
  {
   "cell_type": "markdown",
   "id": "3cc36ac4",
   "metadata": {},
   "source": [
    "Table 1 below allows for a look into the translation results:"
   ]
  },
  {
   "cell_type": "code",
   "execution_count": null,
   "id": "59c314cf",
   "metadata": {
    "tags": [
     "random-example"
    ]
   },
   "outputs": [],
   "source": [
    "import pandas as pd\n",
    "import random\n",
    "from IPython.display import display, Markdown\n",
    "\n",
    "csv_path = \"data/translations.csv\"  # CSV with all translations\n",
    "data = pd.read_csv(csv_path, delimiter=';')\n",
    "\n",
    "random_row = data.sample(n=1).iloc[0]  # Select a random row\n",
    "\n",
    "# Show in a table\n",
    "table = \"| Header | Content |\\n\"\n",
    "table += \"|--------|---------|\\n\"\n",
    "for column, value in random_row.items():\n",
    "    # Only show the first 400 characters\n",
    "    truncated_value = str(value)[:400] + \"...\" if len(str(value)) > 400 else str(value)\n",
    "    table += f\"| {column} | {truncated_value} |\\n\"\n",
    "display(Markdown(table))"
   ]
  },
  {
   "cell_type": "markdown",
   "id": "3d19b995",
   "metadata": {},
   "source": [
    "<button onclick=\"executeRandomExample()\">Show another random example from the translation</button>\n",
    "\n",
    "<script>\n",
    "    async function executeRandomExample() {\n",
    "        // Wait for Thebe to initialize the kernel\n",
    "        if (!window.thebelab) {\n",
    "            console.error(\"Thebe is not loaded or initialized.\");\n",
    "            return;\n",
    "        }\n",
    "\n",
    "        // Find the cell with the tag 'random-example'\n",
    "        const cell = document.querySelector('.tags-random-example');\n",
    "        if (!cell) {\n",
    "            console.error(\"Could not find the cell with the 'random-example' tag.\");\n",
    "            return;\n",
    "        }\n",
    "\n",
    "        // Execute the cell using Thebe's kernel\n",
    "        try {\n",
    "            const kernel = window.thebelab.kernels[0]; // Use the first kernel\n",
    "            const code = cell.querySelector('.thebelab-code').textContent; // Extract the code\n",
    "            kernel.execute(code); // Execute the code\n",
    "        } catch (error) {\n",
    "            console.error(\"Error executing the cell:\", error);\n",
    "        }\n",
    "    }\n",
    "</script>"
   ]
  }
 ],
 "metadata": {
  "kernelspec": {
   "display_name": "Python 3",
   "language": "python",
   "name": "python3"
  },
  "thebe": true
 },
 "nbformat": 4,
 "nbformat_minor": 5
}
