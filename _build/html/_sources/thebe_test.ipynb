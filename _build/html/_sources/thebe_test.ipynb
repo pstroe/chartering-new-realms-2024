{
 "cells": [
  {
   "cell_type": "raw",
   "id": "81b35fd9",
   "metadata": {},
   "source": [
    "---\n",
    "\n",
    "thebe: true\n",
    "kernelspec:\n",
    "\tdisplay_name: Python 3\n",
    "\tlanguage: python\n",
    "\tname: python3\n",
    "\n",
    "jupytext:\n",
    "\tformats: md:myst\n",
    "\ttext_representation:\n",
    "\t\textension: .md\n",
    "\t\tformat_name: myst\n",
    "\t\tformat version: '0.13'\n",
    "\t\tjupytext_version: 1.11.5\n",
    "---"
   ]
  },
  {
   "cell_type": "markdown",
   "id": "48e764e0",
   "metadata": {},
   "source": [
    "```{code-cell} python\n",
    "print(\"Hello\")\n",
    "```"
   ]
  }
 ],
 "metadata": {
  "jupytext": {
   "cell_metadata_filter": "-all",
   "main_language": "python",
   "notebook_metadata_filter": "-all"
  }
 },
 "nbformat": 4,
 "nbformat_minor": 5
}
