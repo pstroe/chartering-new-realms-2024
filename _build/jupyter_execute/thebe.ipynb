{
 "cells": [
  {
   "cell_type": "markdown",
   "id": "3cc36ac4",
   "metadata": {},
   "source": [
    "Table 1 below allows for a look into the translation results:"
   ]
  },
  {
   "cell_type": "code",
   "execution_count": 1,
   "id": "59c314cf",
   "metadata": {
    "tags": [
     "random-example"
    ]
   },
   "outputs": [
    {
     "data": {
      "text/markdown": [
       "| Header | Content |\n",
       "|--------|---------|\n",
       "| Source | De Legibus, Book 1 Section 15, I\r\n",
       "Cicero |\n",
       "| Latin | Atqui, si quaeris ego quid exspectem, quoniam scriptum est a te de optimo rei publicae statu, consequens esse uidetur ut scribas tu idem de legibus: sic enim fecisse uideo Platonem illum tuum, quem tu admiraris, quem omnibus anteponis, quem maxime diligis. |\n",
       "| Gold standard | But if you ask what I expect, since you have written on the best form of republic, the sequel seems to be that you also write on laws. For I see that your dear, famous Plato did so, at whom you marvel, whom you rank ahead of all [others], whom you greatly cherish. |\n",
       "| GPT-4o | But, if you ask what I am waiting for, since it has been written by you about the best state of the republic, it seems fitting that you should also write about laws: for I see that your Plato, whom you admire, whom you place above all others, whom you love the most, did the same. |\n",
       "| Google Translate | And if you ask me what I expect, since it is written by you about the best state of the state, it will be seen that it follows that you write the same about the laws: for I see that your Plato, whom you admire, whom you put before all, whom you love most, has done so. |\n",
       "| Gemini | However, if you ask what I expect, since you have written about the ideal state, it seems fitting that you would write similarly about laws; for thus I see that your Plato did, whom you admire, whom you place above all others, whom you love most |\n",
       "| Yandex | And if you ask me what i expect, because it is written by you about the best state, it would seem that, consequently, you write the same thing about the laws: for I have done so, i see That Your Plato, whom you admire, whom you prefer over all, whom you love the most. |\n"
      ],
      "text/plain": [
       "<IPython.core.display.Markdown object>"
      ]
     },
     "metadata": {},
     "output_type": "display_data"
    }
   ],
   "source": [
    "import pandas as pd\n",
    "import random\n",
    "from IPython.display import display, Markdown\n",
    "\n",
    "csv_path = \"data/translations.csv\"  # CSV with all translations\n",
    "data = pd.read_csv(csv_path, delimiter=';')\n",
    "\n",
    "random_row = data.sample(n=1).iloc[0]  # Select a random row\n",
    "\n",
    "# Show in a table\n",
    "table = \"| Header | Content |\\n\"\n",
    "table += \"|--------|---------|\\n\"\n",
    "for column, value in random_row.items():\n",
    "    # Only show the first 400 characters\n",
    "    truncated_value = str(value)[:400] + \"...\" if len(str(value)) > 400 else str(value)\n",
    "    table += f\"| {column} | {truncated_value} |\\n\"\n",
    "display(Markdown(table))"
   ]
  },
  {
   "cell_type": "markdown",
   "id": "3d19b995",
   "metadata": {},
   "source": [
    "<button onclick=\"executeRandomExample()\">Show another random example from the translation</button>\n",
    "\n",
    "<script>\n",
    "    async function executeRandomExample() {\n",
    "        // Wait for Thebe to initialize the kernel\n",
    "        if (!window.thebelab) {\n",
    "            console.error(\"Thebe is not loaded or initialized.\");\n",
    "            return;\n",
    "        }\n",
    "\n",
    "        // Find the cell with the tag 'random-example'\n",
    "        const cell = document.querySelector('.tags-random-example');\n",
    "        if (!cell) {\n",
    "            console.error(\"Could not find the cell with the 'random-example' tag.\");\n",
    "            return;\n",
    "        }\n",
    "\n",
    "        // Execute the cell using Thebe's kernel\n",
    "        try {\n",
    "            const kernel = window.thebelab.kernels[0]; // Use the first kernel\n",
    "            const code = cell.querySelector('.thebelab-code').textContent; // Extract the code\n",
    "            kernel.execute(code); // Execute the code\n",
    "        } catch (error) {\n",
    "            console.error(\"Error executing the cell:\", error);\n",
    "        }\n",
    "    }\n",
    "</script>"
   ]
  }
 ],
 "metadata": {
  "kernelspec": {
   "display_name": "Python 3",
   "language": "python",
   "name": "python3"
  },
  "language_info": {
   "codemirror_mode": {
    "name": "ipython",
    "version": 3
   },
   "file_extension": ".py",
   "mimetype": "text/x-python",
   "name": "python",
   "nbconvert_exporter": "python",
   "pygments_lexer": "ipython3",
   "version": "3.11.9"
  },
  "thebe": true
 },
 "nbformat": 4,
 "nbformat_minor": 5
}