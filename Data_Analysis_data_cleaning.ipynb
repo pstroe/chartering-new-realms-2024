{
 "cells": [
  {
   "cell_type": "markdown",
   "metadata": {},
   "source": [
    "## Data Analysis"
   ]
  },
  {
   "cell_type": "code",
   "execution_count": null,
   "metadata": {},
   "outputs": [],
   "source": [
    "import re"
   ]
  },
  {
   "cell_type": "markdown",
   "metadata": {},
   "source": [
    "# Extraction of KJV"
   ]
  },
  {
   "cell_type": "code",
   "execution_count": 173,
   "metadata": {},
   "outputs": [
    {
     "name": "stdout",
     "output_type": "stream",
     "text": [
      "Extraction complete. Data saved to KJV_extracted.tsv.\n"
     ]
    }
   ],
   "source": [
    "import re\n",
    "import pandas as pd\n",
    "\n",
    "# File paths\n",
    "input_file = \"KJV_reformatted.txt\"\n",
    "output_file = \"KJV_extracted.tsv\"\n",
    "\n",
    "# List of books (regex-compatible names)\n",
    "books = [\n",
    "    \"The First Book of Moses: Called Genesis\", \"The Second Book of Moses: Called Exodus\",\n",
    "    \"The Third Book of Moses: Called Leviticus\", \"The Fourth Book of Moses: Called Numbers\",\n",
    "    \"The Fifth Book of Moses: Called Deuteronomy\", \"The Book of Joshua\", \"The Book of Judges\",\n",
    "    \"The Book of Ruth\", \"The First Book of Samuel\", \"The Second Book of Samuel\",\n",
    "    \"The First Book of the Kings\", \"The Second Book of the Kings\", \"The First Book of the Chronicles\",\n",
    "    \"The Second Book of the Chronicles\", \"Ezra\", \"The Book of Nehemiah\", \"The Book of Esther\",\n",
    "    \"The Book of Job\", \"The Book of Psalms\", \"The Proverbs\", \"Ecclesiastes\",\n",
    "    \"The Song of Solomon\", \"The Book of the Prophet Isaiah\", \"The Book of the Prophet Jeremiah\",\n",
    "    \"The Lamentations of Jeremiah\", \"The Book of the Prophet Ezekiel\", \"The Book of Daniel\",\n",
    "    \"Hosea\", \"Joel\", \"Amos\", \"Obadiah\", \"Jonah\", \"Micah\", \"Nahum\", \"Habakkuk\", \"Zephaniah\",\n",
    "    \"Haggai\", \"Zechariah\", \"Malachi\", \"The Gospel According to Saint Matthew\",\n",
    "    \"The Gospel According to Saint Mark\", \"The Gospel According to Saint Luke\",\n",
    "    \"The Gospel According to Saint John\", \"The Acts of the Apostles\",\n",
    "    \"The Epistle of Paul the Apostle to the Romans\", \"The First Epistle of Paul the Apostle to the Corinthians\",\n",
    "    \"The Second Epistle of Paul the Apostle to the Corinthians\",\n",
    "    \"The Epistle of Paul the Apostle to the Galatians\", \"The Epistle of Paul the Apostle to the Ephesians\",\n",
    "    \"The Epistle of Paul the Apostle to the Philippians\", \"The Epistle of Paul the Apostle to the Colossians\",\n",
    "    \"The First Epistle of Paul the Apostle to the Thessalonians\",\n",
    "    \"The Second Epistle of Paul the Apostle to the Thessalonians\",\n",
    "    \"The First Epistle of Paul the Apostle to Timothy\", \"The Second Epistle of Paul the Apostle to Timothy\",\n",
    "    \"The Epistle of Paul the Apostle to Titus\", \"The Epistle of Paul the Apostle to Philemon\",\n",
    "    \"The Epistle of Paul the Apostle to the Hebrews\", \"The General Epistle of James\",\n",
    "    \"The First Epistle General of Peter\", \"The Second General Epistle of Peter\",\n",
    "    \"The First Epistle General of John\", \"The Second Epistle General of John\",\n",
    "    \"The Third Epistle General of John\", \"The General Epistle of Jude\",\n",
    "    \"The Revelation of Saint John the Divine\"\n",
    "]\n",
    "\n",
    "# Create a regex pattern to match any book title\n",
    "book_pattern = re.compile(r\"|\".join(re.escape(book) for book in books))\n",
    "\n",
    "# Read the file content\n",
    "with open(input_file, \"r\", encoding=\"utf-8\") as file:\n",
    "    content = file.read()\n",
    "\n",
    "# Split the content into books\n",
    "book_splits = re.split(book_pattern, content)\n",
    "book_titles = re.findall(book_pattern, content)\n",
    "\n",
    "# Debug: Check if all books are recognized\n",
    "if len(book_splits) - 1 != len(book_titles):\n",
    "    print(f\"Warning: Book titles and splits mismatch. Found {len(book_titles)} titles and {len(book_splits)-1} splits.\")\n",
    "\n",
    "# Process each book\n",
    "data = []\n",
    "for title, book_content in zip(book_titles, book_splits[1:]):  # Skip the first split (before the first book)\n",
    "    book_content = book_content.strip()\n",
    "    book_content = re.sub(r\"\\n\", \" \", book_content)\n",
    "    book_content = re.sub(r\"\\s+\", \" \", book_content).strip()\n",
    "\n",
    "    # Extract verses using regex\n",
    "    matches = re.findall(r\"(\\d+:\\d+)\\s+(.+?)(?=\\s+\\d+:\\d+\\s+|$)\", book_content)\n",
    "    for verse, text in matches:\n",
    "        chapter, verse_num = verse.split(\":\")\n",
    "        data.append([title, int(chapter), int(verse_num), text.strip()])\n",
    "\n",
    "# Create DataFrame and save\n",
    "df = pd.DataFrame(data, columns=[\"Book\", \"Chapter\", \"Verse\", \"Text\"])\n",
    "df.to_csv(output_file, sep=\"\\t\", index=False)\n",
    "print(f\"Extraction complete. Data saved to {output_file}.\")"
   ]
  },
  {
   "cell_type": "code",
   "execution_count": 174,
   "metadata": {},
   "outputs": [
    {
     "name": "stdout",
     "output_type": "stream",
     "text": [
      "Unique books extracted: 64\n",
      "Missing books: ['The First Book of Samuel', 'The Second Book of Samuel']\n"
     ]
    }
   ],
   "source": [
    "# Load the extracted file\n",
    "df = pd.read_csv(\"KJV_extracted.tsv\", sep=\"\\t\")\n",
    "\n",
    "# Count unique books\n",
    "unique_books = df[\"Book\"].nunique()\n",
    "print(f\"Unique books extracted: {unique_books}\")\n",
    "\n",
    "# Compare with expected list\n",
    "missing_books = [book for book in books if book not in df[\"Book\"].unique()]\n",
    "print(f\"Missing books: {missing_books}\")"
   ]
  },
  {
   "cell_type": "markdown",
   "metadata": {},
   "source": [
    "# OEB"
   ]
  },
  {
   "cell_type": "code",
   "execution_count": 197,
   "metadata": {},
   "outputs": [
    {
     "name": "stdout",
     "output_type": "stream",
     "text": [
      "Extraction complete! 11722 verses written to OEB_combined.tsv\n"
     ]
    }
   ],
   "source": [
    "import re\n",
    "\n",
    "# File paths\n",
    "input_file = 'OEB.txt'\n",
    "output_tsv_file = 'OEB_combined.tsv'\n",
    "\n",
    "# Book names extracted from the table of contents\n",
    "book_names = [\n",
    "    \"Ruth\", \"Esther\", \"Psalms\", \"Hosea\", \"Joel\", \"Amos\", \"Obadiah\", \"Jonah\", \n",
    "    \"Micah\", \"Nahum\", \"Habakkuk\", \"Zephaniah\", \"Haggai\", \"Zechariah\", \"Malachi\",\n",
    "    \"Matthew\", \"Mark\", \"Luke\", \"John\", \"Acts\", \"Romans\", \"1 Corinthians\", \n",
    "    \"2 Corinthians\", \"Galatians\", \"Ephesians\", \"Philippians\", \"Colossians\", \n",
    "    \"1 Thessalonians\", \"2 Thessalonians\", \"1 Timothy\", \"2 Timothy\", \"Titus\", \n",
    "    \"Philemon\", \"Hebrews\", \"James\", \"1 Peter\", \"2 Peter\", \"1 John\", \"2 John\", \n",
    "    \"3 John\", \"Jude\", \"Revelation\"\n",
    "]\n",
    "\n",
    "# Regex pattern to detect verses\n",
    "verse_pattern = re.compile(r\"\\[(\\d+:\\d+)\\]\\s+(.+?)(?=\\[\\d+:\\d+\\]|$)\")\n",
    "\n",
    "# Data collection\n",
    "combined_data = []\n",
    "current_book = None\n",
    "\n",
    "# Use the order of books from the table of contents to infer context\n",
    "book_index = 0\n",
    "\n",
    "with open(input_file, 'r', encoding='utf-8') as file:\n",
    "    for line in file:\n",
    "        line = line.strip()\n",
    "\n",
    "        # Detect verses\n",
    "        for verse_match in verse_pattern.finditer(line):\n",
    "            verse_id, verse_text = verse_match.groups()\n",
    "            chapter_num, verse_num = verse_id.split(\":\")\n",
    "\n",
    "            # Assign current book based on the detected order in the text\n",
    "            if current_book is None or len(combined_data) > 0 and int(chapter_num) == 1 and int(verse_num) == 1:\n",
    "                current_book = book_names[book_index]\n",
    "                book_index += 1\n",
    "\n",
    "            # Collect data\n",
    "            combined_data.append((current_book, chapter_num, verse_num, verse_text.strip()))\n",
    "\n",
    "# Write the data to the TSV file\n",
    "with open(output_tsv_file, 'w', encoding='utf-8') as out_file:\n",
    "    out_file.write(\"Book\\tChapter\\tVerse\\tText\\n\")\n",
    "    for entry in combined_data:\n",
    "        out_file.write(\"\\t\".join(entry) + \"\\n\")\n",
    "\n",
    "print(f\"Extraction complete! {len(combined_data)} verses written to {output_tsv_file}\")\n"
   ]
  },
  {
   "cell_type": "markdown",
   "metadata": {},
   "source": [
    "## extract psalms separately"
   ]
  },
  {
   "cell_type": "code",
   "execution_count": 208,
   "metadata": {},
   "outputs": [
    {
     "name": "stdout",
     "output_type": "stream",
     "text": [
      "Extraction complete! 2460 verses written to OEB_psalms_corrected.tsv.\n"
     ]
    }
   ],
   "source": [
    "import re\n",
    "import pandas as pd\n",
    "\n",
    "# File paths\n",
    "input_file_path = 'OEB_psalms.txt'\n",
    "output_file_path = 'OEB_psalms_corrected.tsv'\n",
    "\n",
    "# Regex patterns\n",
    "chapter_start_pattern = re.compile(r\"^\\[Psalms (\\d+)\\]\")  # Match chapter markers like [Psalms 1]\n",
    "verse_pattern = re.compile(r\"\\[(\\d+:\\d+)\\]\\s+(.+)\")  # Match verses like [1:1] followed by text\n",
    "\n",
    "# Data collection\n",
    "psalms_data = []\n",
    "current_chapter = None\n",
    "current_verse = None\n",
    "current_text = \"\"\n",
    "\n",
    "# Process the file\n",
    "with open(input_file_path, 'r', encoding='utf-8') as file:\n",
    "    for line in file:\n",
    "        line = line.strip()\n",
    "\n",
    "        # Detect chapter start\n",
    "        chapter_match = chapter_start_pattern.match(line)\n",
    "        if chapter_match:\n",
    "            if current_chapter and current_verse and current_text:\n",
    "                # Save the last verse before switching chapters\n",
    "                psalms_data.append((\"Psalms\", current_chapter, current_verse, current_text.strip()))\n",
    "            current_chapter = int(chapter_match.group(1))\n",
    "            current_verse, current_text = None, \"\"\n",
    "            continue\n",
    "\n",
    "        # Detect verses\n",
    "        verse_match = verse_pattern.match(line)\n",
    "        if verse_match:\n",
    "            if current_chapter and current_verse and current_text:\n",
    "                # Save the previous verse\n",
    "                psalms_data.append((\"Psalms\", current_chapter, current_verse, current_text.strip()))\n",
    "            # Start a new verse\n",
    "            current_verse = int(verse_match.group(1).split(\":\")[1])  # Extract verse as an integer\n",
    "            current_text = verse_match.group(2).strip()\n",
    "            continue\n",
    "\n",
    "        # Append multiline text\n",
    "        if current_text:\n",
    "            current_text += \" \" + line.strip()\n",
    "\n",
    "# Save the last verse\n",
    "if current_chapter and current_verse and current_text:\n",
    "    psalms_data.append((\"Psalms\", current_chapter, current_verse, current_text.strip()))\n",
    "\n",
    "# Create DataFrame and save to TSV\n",
    "psalms_df = pd.DataFrame(psalms_data, columns=[\"Book\", \"Chapter\", \"Verse\", \"Text\"])\n",
    "psalms_df.to_csv(output_file_path, sep='\\t', index=False)\n",
    "\n",
    "print(f\"Extraction complete! {len(psalms_data)} verses written to {output_file_path}.\")\n",
    "\n",
    "\n",
    "\n"
   ]
  },
  {
   "cell_type": "markdown",
   "metadata": {},
   "source": [
    "## replace faulty psalms with correctly extracted psalms"
   ]
  },
  {
   "cell_type": "code",
   "execution_count": 209,
   "metadata": {},
   "outputs": [
    {
     "name": "stdout",
     "output_type": "stream",
     "text": [
      "Combined dataset with corrected Psalms saved to OEB_combined_with_corrected_psalms.tsv\n"
     ]
    }
   ],
   "source": [
    "# Paths for the main dataset and corrected Psalms\n",
    "main_dataset_path = 'OEB_combined.tsv' \n",
    "corrected_psalms_path = 'OEB_psalms_corrected.tsv'\n",
    "output_combined_path = 'OEB_combined_with_corrected_psalms.tsv'\n",
    "\n",
    "# Load the datasets\n",
    "main_df = pd.read_csv(main_dataset_path, sep='\\t')\n",
    "psalms_df = pd.read_csv(corrected_psalms_path, sep='\\t')\n",
    "\n",
    "# Remove faulty Psalms from the main dataset\n",
    "main_df = main_df[main_df[\"Book\"] != \"Psalms\"]\n",
    "\n",
    "# Append corrected Psalms and sort by Book, Chapter, and Verse\n",
    "combined_df = pd.concat([main_df, psalms_df]).sort_values(by=[\"Book\", \"Chapter\", \"Verse\"])\n",
    "combined_df.to_csv(output_combined_path, sep='\\t', index=False)\n",
    "\n",
    "print(f\"Combined dataset with corrected Psalms saved to {output_combined_path}\")"
   ]
  },
  {
   "cell_type": "markdown",
   "metadata": {},
   "source": [
    "# WEB"
   ]
  },
  {
   "cell_type": "code",
   "execution_count": null,
   "metadata": {},
   "outputs": [],
   "source": [
    "import re\n",
    "\n",
    "# File paths for input and output\n",
    "input_web_file = \"WEB.txt\"\n",
    "output_web_tsv_file = \"WEB_combined.tsv\"\n",
    "\n",
    "# Regex patterns for books, chapters, and verses\n",
    "book_pattern = re.compile(r\"^Book \\d+\\s+(.+)$\")  # Matches lines like \"Book 01 Genesis\"\n",
    "verse_pattern = re.compile(r\"^(\\d{3}):(\\d{3})\\s+(.+)$\")  # Matches lines like \"001:001 Text\"\n",
    "\n",
    "# Function to normalize chapter and verse numbers\n",
    "def normalize_number(value):\n",
    "    return str(int(value))  # Remove leading zeros by converting to integer and back to string\n",
    "\n",
    "# Function to clean text\n",
    "def clean_text(text):\n",
    "    return re.sub(r'[\\\"“”]', '', text).strip()  # Remove quotation marks and clean whitespace\n",
    "\n",
    "# Data collection\n",
    "web_data = []\n",
    "current_book = None\n",
    "current_verse = None\n",
    "current_text = []\n",
    "\n",
    "with open(input_web_file, \"r\", encoding=\"utf-8\") as file:\n",
    "    for line in file:\n",
    "        line = line.strip()\n",
    "\n",
    "        # Detect book titles\n",
    "        book_match = book_pattern.match(line)\n",
    "        if book_match:\n",
    "            current_book = book_match.group(1).strip()\n",
    "            continue\n",
    "\n",
    "        # Detect verses\n",
    "        verse_match = verse_pattern.match(line)\n",
    "        if verse_match and current_book:\n",
    "            # Save the previous verse if it exists\n",
    "            if current_verse and current_text:\n",
    "                full_text = \" \".join(current_text).strip()\n",
    "                full_text = clean_text(full_text)  # Clean the text\n",
    "                web_data.append((current_book, *current_verse, full_text))\n",
    "\n",
    "            # Start a new verse\n",
    "            chapter_num, verse_num, text = verse_match.groups()\n",
    "            chapter_num = normalize_number(chapter_num)  # Normalize chapter number\n",
    "            verse_num = normalize_number(verse_num)      # Normalize verse number\n",
    "            current_verse = (chapter_num, verse_num)\n",
    "            current_text = [text]\n",
    "        else:\n",
    "            # Accumulate lines for the current verse\n",
    "            current_text.append(line)\n",
    "\n",
    "    # Save the last verse\n",
    "    if current_verse and current_text:\n",
    "        full_text = \" \".join(current_text).strip()\n",
    "        full_text = clean_text(full_text)  # Clean the text\n",
    "        web_data.append((current_book, *current_verse, full_text))\n",
    "\n",
    "# Write data to a single TSV file\n",
    "with open(output_web_tsv_file, \"w\", encoding=\"utf-8\") as out_file:\n",
    "    out_file.write(\"Book\\tChapter\\tVerse\\tText\\n\")\n",
    "    for entry in web_data:\n",
    "        out_file.write(\"\\t\".join(entry) + \"\\n\")\n",
    "\n",
    "print(f\"Processed {len(web_data)} entries. Cleaned WEB file saved as {output_web_tsv_file}.\")"
   ]
  },
  {
   "cell_type": "markdown",
   "metadata": {},
   "source": [
    "## DRB"
   ]
  },
  {
   "cell_type": "code",
   "execution_count": null,
   "metadata": {},
   "outputs": [],
   "source": [
    "DRB_old_test_books = \"\"\"The Book of Genesis\n",
    " The Book of Exodus\n",
    " The Book of Leviticus\n",
    " The Book of Numbers\n",
    " The Book of Deuteronomy\n",
    " The Book of Josue\n",
    " The Book of Judges\n",
    " The Book of Ruth\n",
    " The First Book of Samuel, otherwise called the First Book of Kings\n",
    " The Second Book of Samuel, otherwise called the Second Book of Kings\n",
    " The Third Book of Kings\n",
    " The Fourth Book of Kings\n",
    " The First Book of Paralipomenon\n",
    " The Second Book of Paralipomenon\n",
    " The First Book of Esdras\n",
    " The Book of Nehemias, which is called the Second of Esdras\n",
    " The Book of Tobias\n",
    " The Book of Judith\n",
    " The Book of Esther\n",
    " The Book of Job\n",
    " The Book of Psalms\n",
    " The Book of Proverbs\n",
    " Ecclesiastes\n",
    " Solomon’s Canticle of Canticles\n",
    " The Book of Wisdom\n",
    " Ecclesiasticus\n",
    " The Prophecy of Isaias\n",
    " The Prophecy of Jeremias\n",
    " The Lamentations of Jeremias\n",
    " The Prophecy of Baruch\n",
    " The Prophecy of Ezechiel\n",
    " The Prophecy of Daniel\n",
    " The Prophecy of Osee\n",
    " The Prophecy of Joel\n",
    " The Prophecy of Amos\n",
    " The Prophecy of Abdias\n",
    " The Prophecy of Jonas\n",
    " The Prophecy of Micheas\n",
    " The Prophecy of Nahum\n",
    " The Prophecy of Habacuc\n",
    " The Prophecy of Sophonias\n",
    " The Prophecy of Aggeus\n",
    " The Prophecy of Zacharias\n",
    " The Prophecy of Malachias\n",
    " The First Book of Machabees\n",
    " The Second Book of Machabees\"\"\".split('\\n ')\n",
    "\n",
    "DRB_new_test_books = \"\"\"The Holy Gospel of Jesus Christ According to St. Matthew\n",
    " The Holy Gospel of Jesus Christ According to St. Mark\n",
    " The Holy Gospel of Jesus Christ According to St. Luke\n",
    " The Holy Gospel of Jesus Christ  According to St. John\n",
    " The Acts of the Apostles\n",
    " The Epistle of St. Paul the Apostle to the Romans\n",
    " The First Epistle of St. Paul to the Corinthians\n",
    " The Second Epistle of St. Paul to the Corinthians\n",
    " The Epistle of St. Paul to the Galatians\n",
    " The Epistle of St. Paul to the Ephesians\n",
    " The Epistle of St. Paul to the Philippians\n",
    " The Epistle of St. Paul to the Colossians\n",
    " The First Epistle of St. Paul to the Thessalonians\n",
    " The Second Epistle of St. Paul to the Thessalonians\n",
    " The First Epistle of St. Paul to Timothy\n",
    " The Second Epistle of St. Paul to Timothy\n",
    " The Epistle of St. Paul to Titus\n",
    " The Epistle of St. Paul to Philemon\n",
    " The Epistle of St. Paul to the Hebrews\n",
    " The Catholic Epistle of St. James the Apostle\n",
    " The First Epistle of St. Peter the Apostle\n",
    " The Second Epistle of St. Peter the Apostle\n",
    " The First Epistle of St. John the Apostle\n",
    " The Second Epistle of St. John the Apostle\n",
    " The Third Epistle of St. John the Apostle\n",
    " The Catholic Epistle of St. Jude the Apostle\n",
    " The Apocalypse of St. John the Apostle\"\"\".split('\\n ')\n",
    "print(DRB_old_test_books)\n",
    "print(DRB_new_test_books)"
   ]
  },
  {
   "cell_type": "code",
   "execution_count": null,
   "metadata": {},
   "outputs": [],
   "source": [
    "txt = \"The Book of Leviticus\"\n",
    "print(txt.upper())"
   ]
  },
  {
   "cell_type": "code",
   "execution_count": null,
   "metadata": {},
   "outputs": [],
   "source": [
    "import re\n",
    "\n",
    "# List of book titles (assuming they are already in uppercase)\n",
    "titles = DRB_old_test_books + DRB_new_test_books\n",
    "titles = [element.upper() for element in titles]\n",
    "\n",
    "# Open the input Bible text file\n",
    "with open('DRV.txt', \"r\") as f:\n",
    "    line_counter = 0\n",
    "    book_name = None\n",
    "    book_content = \"\"  # Temporary storage for the current book's content\n",
    "\n",
    "    # Iterate through each line in the file\n",
    "    for line in f:\n",
    "        line_counter += 1\n",
    "        \n",
    "        # Only process lines between 145 and 140345\n",
    "        if line_counter < 145:\n",
    "            continue  # Skip lines before 145\n",
    "        if line_counter > 140345:\n",
    "            break  # Stop processing after line 140345\n",
    "\n",
    "        line = line.strip()  # Remove leading and trailing whitespace\n",
    "        \n",
    "        # Check if the line contains a book title\n",
    "        for title in titles:\n",
    "            if title in line:  # If a book title is found\n",
    "                if book_name:  # Process the previous book if it exists\n",
    "                    # Save the content of the previous book into a text file\n",
    "                    with open(f'DRB_{book_name}.txt', 'w') as book_file:\n",
    "                        book_file.write(book_content)\n",
    "                \n",
    "                # Set the new book name and reset content for the new book\n",
    "                book_name = title\n",
    "                book_content = \"\"  # Reset content for the next book\n",
    "                break  # Stop checking for other titles once the current one is found\n",
    "\n",
    "        # Append the current line to the book's content (if book_name is set)\n",
    "        if book_name:\n",
    "            book_content += line + \"\\n\"  # Add newline between lines of the book\n",
    "\n",
    "    # Save the last book's content after processing all lines\n",
    "    if book_name and book_content:\n",
    "        with open(f'DRB_{book_name}.txt', 'w') as book_file:\n",
    "            book_file.write(book_content)\n",
    "\n",
    "print(\"Books have been saved to separate text files.\")\n"
   ]
  },
  {
   "cell_type": "code",
   "execution_count": null,
   "metadata": {},
   "outputs": [
    {
     "name": "stdout",
     "output_type": "stream",
     "text": [
      "Combined file grouped by Book saved to: aligned_bible_final.tsv\n"
     ]
    }
   ],
   "source": []
  },
  {
   "cell_type": "markdown",
   "metadata": {},
   "source": [
    "## sorted alignment"
   ]
  },
  {
   "cell_type": "code",
   "execution_count": 142,
   "metadata": {},
   "outputs": [
    {
     "name": "stdout",
     "output_type": "stream",
     "text": [
      "Sorted combined data saved to: sorted_aligned_bible_final.tsv\n"
     ]
    }
   ],
   "source": [
    "import pandas as pd\n",
    "\n",
    "# Load the combined data\n",
    "combined_file = \"aligned_bible_final.tsv\"\n",
    "df = pd.read_csv(combined_file, sep=\"\\t\")\n",
    "\n",
    "# Ensure Chapter and Verse are treated as integers\n",
    "df[\"Chapter\"] = df[\"Chapter\"].astype(int, errors=\"ignore\")\n",
    "df[\"Verse\"] = df[\"Verse\"].astype(int, errors=\"ignore\")\n",
    "\n",
    "# Sort the DataFrame\n",
    "df = df.sort_values(\n",
    "    by=[\"Index\", \"Version\", \"Book\", \"Chapter\", \"Verse\"],  # Sorting keys\n",
    ")\n",
    "\n",
    "# Save to a new file\n",
    "output_file = \"sorted_aligned_bible_final.tsv\"\n",
    "df.to_csv(output_file, sep=\"\\t\", index=False)\n",
    "\n",
    "print(f\"Sorted combined data saved to: {output_file}\")\n",
    "\n"
   ]
  },
  {
   "cell_type": "code",
   "execution_count": null,
   "metadata": {},
   "outputs": [],
   "source": [
    "import pandas as pd\n",
    "import re\n",
    "\n",
    "# File paths\n",
    "input_file = \"DRB_preprocessed_columns.tsv\"\n",
    "output_file = \"DRB_normalized_titles.tsv\"\n",
    "\n",
    "# List of canonical book titles\n",
    "canonical_titles = DRB_old_test_books + DRB_new_test_books\n",
    "\n",
    "# Function to normalize a title\n",
    "def normalize_title(title):\n",
    "    # Convert title to lowercase and strip whitespace\n",
    "    title = title.strip().lower()\n",
    "    # Match with canonical titles (case insensitive)\n",
    "    for canonical in canonical_titles:\n",
    "        if re.fullmatch(canonical.strip().lower(), title):\n",
    "            return canonical  # Return the canonical title if it matches\n",
    "    return title  # Return original title if no match is found\n",
    "\n",
    "# Read the TSV file\n",
    "df = pd.read_csv(input_file, sep=\"\\t\")\n",
    "\n",
    "# Normalize the \"Book\" column\n",
    "df[\"Book\"] = df[\"Book\"].apply(normalize_title)\n",
    "\n",
    "# Save the updated DataFrame to a new TSV file\n",
    "df.to_csv(output_file, sep=\"\\t\", index=False)\n",
    "\n",
    "print(f\"Book titles in '{input_file}' have been normalized and saved to '{output_file}'.\")"
   ]
  },
  {
   "cell_type": "markdown",
   "metadata": {},
   "source": [
    "## fix alignment file"
   ]
  },
  {
   "cell_type": "code",
   "execution_count": 210,
   "metadata": {},
   "outputs": [],
   "source": [
    "import pandas as pd\n",
    "import re\n",
    "\n",
    "# File paths\n",
    "aligned_file = \"def_titles_aligned.csv\"  # Path to aligned titles file\n",
    "file_paths = {\n",
    "    \"OEB\": \"OEB_combined.tsv\",\n",
    "    \"DRB\": \"DRB_normalized_titles.tsv\",\n",
    "    \"KJV\": \"KJV_final.tsv\",\n",
    "    \"WEB\": \"WEB_combined.tsv\"\n",
    "}\n",
    "\n",
    "# Function to normalize titles\n",
    "def normalize_title(title):\n",
    "    if not isinstance(title, str):\n",
    "        return title\n",
    "    title = re.sub(r'\\b1\\b', 'first', title, flags=re.IGNORECASE)\n",
    "    title = re.sub(r'\\b2\\b', 'second', title, flags=re.IGNORECASE)\n",
    "    title = re.sub(r'\\b3\\b', 'third', title, flags=re.IGNORECASE)\n",
    "    title = re.sub(r'\\bthe\\b', '', title, flags=re.IGNORECASE)\n",
    "    title = re.sub(r'\\bepistle of\\b', 'epistle', title, flags=re.IGNORECASE)\n",
    "    return title.lower().strip()\n",
    "\n",
    "# Step 1: Load the aligned titles file\n",
    "aligned_df = pd.read_csv(aligned_file)\n",
    "\n",
    "# Add an index to the aligned titles for sorting purposes\n",
    "aligned_df[\"Index\"] = aligned_df.index + 1  # Start index from 1 for readability\n",
    "\n",
    "# Step 2: Create a mapping of normalized titles to actual titles for each version\n",
    "title_mappings = {}\n",
    "unmatched_titles = {version: [] for version in file_paths.keys()}  # Log unmatched titles\n",
    "\n",
    "for version, path in file_paths.items():\n",
    "    try:\n",
    "        # Load the TSV file\n",
    "        df = pd.read_csv(path, sep=\"\\t\")\n",
    "        # Normalize the titles and create a mapping\n",
    "        df[\"Normalized Book\"] = df[\"Book\"].apply(normalize_title)\n",
    "        title_mappings[version] = dict(zip(df[\"Normalized Book\"], df[\"Book\"]))\n",
    "    except Exception as e:\n",
    "        print(f\"Error processing {version}: {e}\")\n",
    "        title_mappings[version] = {}\n",
    "\n",
    "# Step 3: Filter each version based on the aligned titles\n",
    "for version, path in file_paths.items():\n",
    "    try:\n",
    "        # Load the respective TSV file\n",
    "        version_df = pd.read_csv(path, sep=\"\\t\")\n",
    "        \n",
    "        # Prepare the filtered DataFrame\n",
    "        filtered_rows = []\n",
    "\n",
    "        # Iterate over each row in the alignment file\n",
    "        for _, row in aligned_df.iterrows():\n",
    "            aligned_title = row[version]  # Get the aligned title for this version\n",
    "            \n",
    "            # Find the corresponding actual title from the mapping\n",
    "            actual_title = title_mappings[version].get(normalize_title(aligned_title), None)\n",
    "            if actual_title:\n",
    "                # Filter rows matching the actual title\n",
    "                matched_rows = version_df[version_df[\"Book\"] == actual_title].copy()\n",
    "                # Add Index and Version columns\n",
    "                matched_rows[\"Index\"] = row[\"Index\"]\n",
    "                matched_rows[\"Version\"] = version  \n",
    "                filtered_rows.append(matched_rows)\n",
    "\n",
    "        # Combine all filtered rows\n",
    "        if filtered_rows:\n",
    "            filtered_version_df = pd.concat(filtered_rows, ignore_index=True)\n",
    "        else:\n",
    "            filtered_version_df = pd.DataFrame(columns=version_df.columns.tolist())\n",
    "\n",
    "        # Save the filtered DataFrame\n",
    "        output_file = f\"{version}_filtered_with_index.tsv\"\n",
    "        filtered_version_df.to_csv(output_file, sep=\"\\t\", index=False)\n",
    "    except Exception as e:\n",
    "        print(f\"Error processing {version}: {e}\")"
   ]
  },
  {
   "cell_type": "code",
   "execution_count": 211,
   "metadata": {},
   "outputs": [
    {
     "name": "stdout",
     "output_type": "stream",
     "text": [
      "Final sorted and reordered file saved to: sorted_aligned_bible_final.tsv\n"
     ]
    }
   ],
   "source": [
    "# Combine all filtered versions\n",
    "filtered_files = [\"OEB_filtered_with_index.tsv\", \"DRB_filtered_with_index.tsv\", \"KJV_filtered_with_index.tsv\", \"WEB_filtered_with_index.tsv\"]\n",
    "combined_df = pd.concat([pd.read_csv(file, sep=\"\\t\") for file in filtered_files], ignore_index=True)\n",
    "\n",
    "# Ensure Chapter and Verse columns are integers for sorting\n",
    "combined_df[\"Chapter\"] = combined_df[\"Chapter\"].astype(int, errors=\"ignore\")\n",
    "combined_df[\"Verse\"] = combined_df[\"Verse\"].astype(int, errors=\"ignore\")\n",
    "\n",
    "# Sort by Index, Version, Chapter, and Verse\n",
    "combined_df = combined_df.sort_values(by=[\"Index\", \"Version\", \"Chapter\", \"Verse\"])\n",
    "\n",
    "# Reorder columns\n",
    "reorder_columns = [\"Index\", \"Version\", \"Book\", \"Chapter\", \"Verse\", \"Text\"]\n",
    "combined_df = combined_df[reorder_columns]  # Reorder columns\n",
    "\n",
    "# Save the final sorted and reordered file\n",
    "output_file = \"sorted_aligned_bible_final.tsv\"\n",
    "combined_df.to_csv(output_file, sep=\"\\t\", index=False)\n",
    "\n",
    "print(f\"Final sorted and reordered file saved to: {output_file}\")\n"
   ]
  },
  {
   "cell_type": "code",
   "execution_count": 179,
   "metadata": {},
   "outputs": [
    {
     "name": "stdout",
     "output_type": "stream",
     "text": [
      "{'OEB_filtered_with_index.tsv': 25, 'DRB_filtered_with_index.tsv': 24, 'KJV_filtered_with_index.tsv': 24, 'WEB_filtered_with_index.tsv': 24}\n"
     ]
    }
   ],
   "source": [
    "import pandas as pd\n",
    "\n",
    "# List of filtered file paths\n",
    "filtered_files = [\n",
    "    \"OEB_filtered_with_index.tsv\",\n",
    "    \"DRB_filtered_with_index.tsv\",\n",
    "    \"KJV_filtered_with_index.tsv\",\n",
    "    \"WEB_filtered_with_index.tsv\"\n",
    "]\n",
    "\n",
    "# Function to count unique book titles in a file\n",
    "def count_unique_titles(file_path):\n",
    "    try:\n",
    "        df = pd.read_csv(file_path, sep=\"\\t\")  # Load the filtered file\n",
    "        unique_titles = df[\"Book\"].nunique()  # Count unique titles\n",
    "        return unique_titles\n",
    "    except Exception as e:\n",
    "        print(f\"Error reading {file_path}: {e}\")\n",
    "        return None\n",
    "\n",
    "# Count unique titles in each file\n",
    "unique_title_counts = {file: count_unique_titles(file) for file in filtered_files}\n",
    "\n",
    "# Display the results\n",
    "print(unique_title_counts)\n",
    "\n"
   ]
  },
  {
   "cell_type": "code",
   "execution_count": 180,
   "metadata": {},
   "outputs": [
    {
     "name": "stdout",
     "output_type": "stream",
     "text": [
      "Unique books extracted: 70\n"
     ]
    }
   ],
   "source": [
    "# Load the extracted file\n",
    "df = pd.read_csv(\"sorted_aligned_bible_final.tsv\", sep=\"\\t\")\n",
    "\n",
    "# Count unique books\n",
    "unique_books = df[\"Book\"].nunique()\n",
    "print(f\"Unique books extracted: {unique_books}\")"
   ]
  },
  {
   "cell_type": "markdown",
   "metadata": {},
   "source": [
    "## make sure all versions have the same number of books"
   ]
  },
  {
   "cell_type": "code",
   "execution_count": 182,
   "metadata": {},
   "outputs": [
    {
     "name": "stdout",
     "output_type": "stream",
     "text": [
      "Unique Books per Version:\n",
      "Version\n",
      "DRB    24\n",
      "KJV    24\n",
      "OEB    24\n",
      "WEB    24\n",
      "Name: Book, dtype: int64\n"
     ]
    }
   ],
   "source": [
    "import pandas as pd\n",
    "\n",
    "# Load the sorted file\n",
    "file_path = \"sorted_aligned_bible_final.tsv\"  # Update with your file path\n",
    "df = pd.read_csv(file_path, sep=\"\\t\")\n",
    "\n",
    "# Group by Version and count unique books\n",
    "unique_books_per_version = df.groupby(\"Version\")[\"Book\"].nunique()\n",
    "\n",
    "# Print results\n",
    "print(\"Unique Books per Version:\")\n",
    "print(unique_books_per_version)"
   ]
  },
  {
   "cell_type": "code",
   "execution_count": 183,
   "metadata": {},
   "outputs": [
    {
     "name": "stdout",
     "output_type": "stream",
     "text": [
      "Books per Version:\n",
      "\n",
      "Version: DRB\n",
      "Total Books: 24\n",
      "The Epistle of St. Paul to the Colossians, The Epistle of St. Paul to the Ephesians, The Book of Esther, The First Epistle of St. Paul to the Corinthians, The First Epistle of St. John the Apostle, The First Epistle of St. Peter the Apostle, The First Epistle of St. Paul to the Thessalonians, The First Epistle of St. Paul to Timothy, The Epistle of St. Paul to the Galatians, The Epistle of St. Paul to the Hebrews, The Catholic Epistle of St. James the Apostle, The Epistle of St. Paul to Philemon, The Epistle of St. Paul to the Philippians, The Book of Psalms, The Epistle of St. Paul the Apostle to the Romans, The Book of Ruth, The Second Epistle of St. Paul to the Corinthians, The Second Epistle of St. John the Apostle, The Second Epistle of St. Peter the Apostle, The Second Epistle of St. Paul to the Thessalonians, The Second Epistle of St. Paul to Timothy, The Third Epistle of St. John the Apostle, The Epistle of St. Paul to Titus, The Apocalypse of St. John the Apostle\n",
      "\n",
      "Version: KJV\n",
      "Total Books: 24\n",
      "The Epistle of Paul the Apostle to the Colossians, The Epistle of Paul the Apostle to the Ephesians, The Book of Esther, The First Epistle of Paul the Apostle to the Corinthians, The First Epistle General of John, The First Epistle General of Peter, The First Epistle of Paul the Apostle to the Thessalonians, The First Epistle of Paul the Apostle to Timothy, The Epistle of Paul the Apostle to the Galatians, The Epistle of Paul the Apostle to the Hebrews, The General Epistle of James, The Epistle of Paul the Apostle to Philemon, The Epistle of Paul the Apostle to the Philippians, The Book of Psalms, The Epistle of Paul the Apostle to the Romans, The Book of Ruth, The Second Epistle of Paul the Apostle to the Corinthians, The Second Epistle General of John, The Second General Epistle of Peter, The Second Epistle of Paul the Apostle to the Thessalonians, The Second Epistle of Paul the Apostle to Timothy, The Third Epistle General of John, The Epistle of Paul the Apostle to Titus, The Revelation of Saint John the Divine\n",
      "\n",
      "Version: OEB\n",
      "Total Books: 24\n",
      "Colossians, Ephesians, Esther, 1 Corinthians, 1 John, 1 Peter, 1 Thessalonians, 1 Timothy, Galatians, Hebrews, James, Philemon, Philippians, Psalms, Romans, Ruth, 2 Corinthians, 2 John, 2 Peter, 2 Thessalonians, 2 Timothy, 3 John, Titus, Revelation\n",
      "\n",
      "Version: WEB\n",
      "Total Books: 24\n",
      "Colossians, Ephesians, Esther, 1 Corinthians, 1 John, 1 Peter, 1 Thessalonians, 1 Timothy, Galatians, Hebrews, James, Philemon, Philippians, Psalms, Romans, Ruth, 2 Corinthians, 2 John, 2 Peter, 2 Thessalonians, 2 Timothy, 3 John, Titus, Revelation\n"
     ]
    }
   ],
   "source": [
    "import pandas as pd\n",
    "\n",
    "# Load the sorted file\n",
    "file_path = \"sorted_aligned_bible_final.tsv\"  # Update with your file path\n",
    "df = pd.read_csv(file_path, sep=\"\\t\")\n",
    "\n",
    "# Group by Version and get the list of unique books per version\n",
    "books_per_version = df.groupby(\"Version\")[\"Book\"].unique()\n",
    "\n",
    "# Print results\n",
    "print(\"Books per Version:\")\n",
    "for version, books in books_per_version.items():\n",
    "    print(f\"\\nVersion: {version}\")\n",
    "    print(f\"Total Books: {len(books)}\")\n",
    "    print(\", \".join(books))\n"
   ]
  },
  {
   "cell_type": "markdown",
   "metadata": {},
   "source": [
    "# General stats of the dataset"
   ]
  },
  {
   "cell_type": "markdown",
   "metadata": {},
   "source": [
    "## General overview"
   ]
  },
  {
   "cell_type": "code",
   "execution_count": 213,
   "metadata": {},
   "outputs": [
    {
     "name": "stdout",
     "output_type": "stream",
     "text": [
      "{'Total Rows': 23615, 'Total Columns': 6, 'Data Types': {'Index': dtype('int64'), 'Version': dtype('O'), 'Book': dtype('O'), 'Chapter': dtype('int64'), 'Verse': dtype('int64'), 'Text': dtype('O')}, 'Missing Values': {'Index': 0, 'Version': 0, 'Book': 0, 'Chapter': 0, 'Verse': 0, 'Text': 0}, 'Unique Books': 69, 'Unique Versions': 4, 'Unique Chapters': 150, 'Unique Indices': 24}\n"
     ]
    }
   ],
   "source": [
    "# General overview\n",
    "bible_data = pd.read_csv('sorted_aligned_bible_final.tsv', sep='\\t')\n",
    "\n",
    "general_stats = {\n",
    "    \"Total Rows\": len(bible_data),\n",
    "    \"Total Columns\": len(bible_data.columns),\n",
    "    \"Data Types\": bible_data.dtypes.to_dict(),\n",
    "    \"Missing Values\": bible_data.isnull().sum().to_dict(),\n",
    "    \"Unique Books\": bible_data[\"Book\"].nunique(),\n",
    "    \"Unique Versions\": bible_data[\"Version\"].nunique(),\n",
    "    \"Unique Chapters\": bible_data[\"Chapter\"].nunique(),\n",
    "    \"Unique Indices\": bible_data[\"Index\"].nunique(),\n",
    "}\n",
    "print(general_stats)"
   ]
  },
  {
   "cell_type": "code",
   "execution_count": 214,
   "metadata": {},
   "outputs": [
    {
     "name": "stdout",
     "output_type": "stream",
     "text": [
      "Version\n",
      "DRB    6036\n",
      "OEB    5860\n",
      "WEB    5860\n",
      "KJV    5859\n",
      "Name: count, dtype: int64\n"
     ]
    }
   ],
   "source": [
    "# rows per version\n",
    "version_distribution = bible_data[\"Version\"].value_counts()\n",
    "print(version_distribution)"
   ]
  },
  {
   "cell_type": "code",
   "execution_count": 226,
   "metadata": {},
   "outputs": [
    {
     "data": {
      "image/png": "[encoded data removed]",
      "text/plain": [
       "<Figure size 1000x600 with 1 Axes>"
      ]
     },
     "metadata": {},
     "output_type": "display_data"
    }
   ],
   "source": [
    "import pandas as pd\n",
    "import matplotlib.pyplot as plt\n",
    "\n",
    "# Load the dataset\n",
    "file_path = \"sorted_aligned_bible_final.tsv\"  # Replace with your file path\n",
    "bible_data = pd.read_csv(file_path, sep=\"\\t\")\n",
    "\n",
    "# Count the number of rows per version\n",
    "version_distribution = bible_data[\"Version\"].value_counts()\n",
    "\n",
    "# Plot the data\n",
    "plt.figure(figsize=(10, 6))\n",
    "version_distribution.plot(\n",
    "    kind=\"bar\",\n",
    "    color=\"skyblue\",  # Set a pleasant color for the bars\n",
    "    edgecolor=\"black\"\n",
    ")\n",
    "plt.title(\"Number of Verses per Version\", fontsize=16)\n",
    "plt.xlabel(\"Version\", fontsize=14)\n",
    "plt.ylabel(\"Number of Verses\", fontsize=14)\n",
    "plt.xticks(rotation=45, ha=\"right\", fontsize=12)\n",
    "plt.tight_layout()\n",
    "\n",
    "# Show the plot\n",
    "plt.show()\n"
   ]
  },
  {
   "cell_type": "code",
   "execution_count": 224,
   "metadata": {},
   "outputs": [
    {
     "name": "stdout",
     "output_type": "stream",
     "text": [
      "Total number of verses in the dataset: 23615\n"
     ]
    }
   ],
   "source": [
    "# count all verses in the dataset\n",
    "total_verses = bible_data.shape[0]\n",
    "print(f\"Total number of verses in the dataset: {total_verses}\")\n"
   ]
  },
  {
   "cell_type": "markdown",
   "metadata": {},
   "source": []
  },
  {
   "cell_type": "code",
   "execution_count": 215,
   "metadata": {},
   "outputs": [
    {
     "name": "stdout",
     "output_type": "stream",
     "text": [
      "Book\n",
      "The Book of Psalms                             4970\n",
      "Psalms                                         4921\n",
      "1 Corinthians                                   874\n",
      "Romans                                          866\n",
      "Revelation                                      810\n",
      "                                               ... \n",
      "The Epistle of Paul the Apostle to Philemon      25\n",
      "The Epistle of St. Paul to Philemon              25\n",
      "The Third Epistle General of John                14\n",
      "The Second Epistle of St. John the Apostle       13\n",
      "The Second Epistle General of John               13\n",
      "Name: count, Length: 69, dtype: int64\n"
     ]
    }
   ],
   "source": [
    "# rows per book\n",
    "book_distribution = bible_data[\"Book\"].value_counts()\n",
    "print(book_distribution)"
   ]
  },
  {
   "cell_type": "code",
   "execution_count": 216,
   "metadata": {},
   "outputs": [
    {
     "name": "stdout",
     "output_type": "stream",
     "text": [
      "Average Verses per Book: 342.2463768115942\n"
     ]
    }
   ],
   "source": [
    "# Average number of verses per book\n",
    "avg_verses_per_book = bible_data.groupby(\"Book\")[\"Verse\"].count().mean()\n",
    "print(\"Average Verses per Book:\", avg_verses_per_book)"
   ]
  },
  {
   "cell_type": "code",
   "execution_count": 217,
   "metadata": {},
   "outputs": [
    {
     "name": "stdout",
     "output_type": "stream",
     "text": [
      "count    23615.000000\n",
      "mean       116.792335\n",
      "std        138.268036\n",
      "min          5.000000\n",
      "25%         76.000000\n",
      "50%        100.000000\n",
      "75%        139.000000\n",
      "max      18319.000000\n",
      "Name: Text_Length, dtype: float64\n"
     ]
    }
   ],
   "source": [
    "# Text length statistics\n",
    "bible_data[\"Text_Length\"] = bible_data[\"Text\"].apply(len)\n",
    "text_length_stats = bible_data[\"Text_Length\"].describe()\n",
    "print(text_length_stats)"
   ]
  },
  {
   "cell_type": "code",
   "execution_count": 218,
   "metadata": {},
   "outputs": [
    {
     "name": "stdout",
     "output_type": "stream",
     "text": [
      "      Version                                       Book  Chapter  Verse  \\\n",
      "14        DRB  The Epistle of St. Paul to the Colossians        1     15   \n",
      "23        DRB  The Epistle of St. Paul to the Colossians        1     24   \n",
      "46        DRB  The Epistle of St. Paul to the Colossians        2     18   \n",
      "92        DRB  The Epistle of St. Paul to the Colossians        4     16   \n",
      "522       DRB   The Epistle of St. Paul to the Ephesians        6     12   \n",
      "...       ...                                        ...      ...    ...   \n",
      "23150     OEB                                 Revelation       20      4   \n",
      "23431     WEB                                 Revelation       13     10   \n",
      "23496     WEB                                 Revelation       17      8   \n",
      "23555     WEB                                 Revelation       20      4   \n",
      "23614     WEB                                 Revelation       22     21   \n",
      "\n",
      "       Text_Length  \n",
      "14             363  \n",
      "23             351  \n",
      "46            1307  \n",
      "92            1437  \n",
      "522            363  \n",
      "...            ...  \n",
      "23150          428  \n",
      "23431          371  \n",
      "23496          353  \n",
      "23555          346  \n",
      "23614        18319  \n",
      "\n",
      "[237 rows x 5 columns]\n"
     ]
    }
   ],
   "source": [
    "outliers = bible_data[bible_data[\"Text_Length\"] > bible_data[\"Text_Length\"].quantile(0.99)]\n",
    "print(outliers[[\"Version\", \"Book\", \"Chapter\", \"Verse\", \"Text_Length\"]])"
   ]
  },
  {
   "cell_type": "code",
   "execution_count": 223,
   "metadata": {},
   "outputs": [
    {
     "data": {
      "text/plain": [
       "<Figure size 1600x1000 with 0 Axes>"
      ]
     },
     "metadata": {},
     "output_type": "display_data"
    },
    {
     "data": {
      "image/png": "[encoded data removed]",
      "text/plain": [
       "<Figure size 1600x1000 with 1 Axes>"
      ]
     },
     "metadata": {},
     "output_type": "display_data"
    }
   ],
   "source": [
    "import pandas as pd\n",
    "import matplotlib.pyplot as plt\n",
    "\n",
    "# Load the dataset\n",
    "file_path = \"sorted_aligned_bible_final.tsv\"  # Replace with your file path\n",
    "bible_data = pd.read_csv(file_path, sep=\"\\t\")\n",
    "\n",
    "# Group by Index and Version, counting the number of verses for each book\n",
    "verse_counts = (\n",
    "    bible_data.groupby([\"Index\", \"Version\"])\n",
    "    .size()\n",
    "    .reset_index(name=\"Verse Count\")\n",
    ")\n",
    "\n",
    "# Add the OEB book names for Index\n",
    "oeb_books = bible_data[bible_data[\"Version\"] == \"OEB\"][[\"Index\", \"Book\"]].drop_duplicates()\n",
    "verse_counts = verse_counts.merge(oeb_books, on=\"Index\", how=\"left\")\n",
    "\n",
    "# Pivot the data for plotting\n",
    "pivoted_counts = verse_counts.pivot(index=\"Book\", columns=\"Version\", values=\"Verse Count\").fillna(0)\n",
    "\n",
    "# Plot the data with a new color palette\n",
    "plt.figure(figsize=(16, 10))\n",
    "pivoted_counts.plot(\n",
    "    kind=\"bar\",\n",
    "    figsize=(16, 10),\n",
    "    stacked=False,\n",
    "    width=0.8,\n",
    "    color=plt.cm.Set2.colors[:len(pivoted_counts.columns)]  # Use the Set2 color palette\n",
    ")\n",
    "plt.title(\"Number of Verses per Book by Version\", fontsize=16)\n",
    "plt.xlabel(\"Book (OEB Names)\", fontsize=14)\n",
    "plt.ylabel(\"Number of Verses\", fontsize=14)\n",
    "plt.legend(title=\"Version\", fontsize=12)\n",
    "plt.xticks(rotation=45, ha=\"right\", fontsize=10)\n",
    "plt.tight_layout()\n",
    "\n",
    "# Show the plot\n",
    "plt.show()\n"
   ]
  }
 ],
 "metadata": {
  "kernelspec": {
   "display_name": "Python 3",
   "language": "python",
   "name": "python3"
  },
  "language_info": {
   "codemirror_mode": {
    "name": "ipython",
    "version": 3
   },
   "file_extension": ".py",
   "mimetype": "text/x-python",
   "name": "python",
   "nbconvert_exporter": "python",
   "pygments_lexer": "ipython3",
   "version": "3.12.3"
  }
 },
 "nbformat": 4,
 "nbformat_minor": 2
}
