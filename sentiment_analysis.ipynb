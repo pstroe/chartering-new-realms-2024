{
 "cells": [
  {
   "cell_type": "markdown",
   "metadata": {},
   "source": [
    "## Load the data set"
   ]
  },
  {
   "cell_type": "code",
   "execution_count": 27,
   "metadata": {},
   "outputs": [
    {
     "name": "stdout",
     "output_type": "stream",
     "text": [
      "   Index Version                                       Book  Chapter  Verse  \\\n",
      "0      1     DRB  The Epistle of St. Paul to the Colossians        1      1   \n",
      "1      1     DRB  The Epistle of St. Paul to the Colossians        1      2   \n",
      "2      1     DRB  The Epistle of St. Paul to the Colossians        1      3   \n",
      "3      1     DRB  The Epistle of St. Paul to the Colossians        1      4   \n",
      "4      1     DRB  The Epistle of St. Paul to the Colossians        1      5   \n",
      "\n",
      "                                                Text  \n",
      "0  Paul, an apostle of Jesus Christ, by the will ...  \n",
      "1  To the saints and faithful brethren in Christ ...  \n",
      "2  Grace be to you and peace, from God our Father...  \n",
      "3  Hearing your faith in Christ Jesus and the lov...  \n",
      "4  For the hope that is laid up for you in heaven...  \n"
     ]
    }
   ],
   "source": [
    "import pandas as pd\n",
    "\n",
    "# Load the combined dataset\n",
    "file_path = \"sorted_aligned_bible_data.tsv\"\n",
    "df = pd.read_csv(file_path, sep=\"\\t\")\n",
    "\n",
    "# Preview the dataset\n",
    "print(df.head())"
   ]
  },
  {
   "cell_type": "markdown",
   "metadata": {},
   "source": [
    "## Install Sentiment Analysis Tools"
   ]
  },
  {
   "cell_type": "code",
   "execution_count": 28,
   "metadata": {},
   "outputs": [
    {
     "name": "stdout",
     "output_type": "stream",
     "text": [
      "Requirement already satisfied: textblob in /Library/Frameworks/Python.framework/Versions/3.12/lib/python3.12/site-packages (0.18.0.post0)\n",
      "Requirement already satisfied: nltk>=3.8 in /Library/Frameworks/Python.framework/Versions/3.12/lib/python3.12/site-packages (from textblob) (3.8.1)\n",
      "Requirement already satisfied: click in /Library/Frameworks/Python.framework/Versions/3.12/lib/python3.12/site-packages (from nltk>=3.8->textblob) (8.1.7)\n",
      "Requirement already satisfied: joblib in /Library/Frameworks/Python.framework/Versions/3.12/lib/python3.12/site-packages (from nltk>=3.8->textblob) (1.4.0)\n",
      "Requirement already satisfied: regex>=2021.8.3 in /Library/Frameworks/Python.framework/Versions/3.12/lib/python3.12/site-packages (from nltk>=3.8->textblob) (2024.4.16)\n",
      "Requirement already satisfied: tqdm in /Library/Frameworks/Python.framework/Versions/3.12/lib/python3.12/site-packages (from nltk>=3.8->textblob) (4.66.2)\n",
      "\n",
      "\u001b[1m[\u001b[0m\u001b[34;49mnotice\u001b[0m\u001b[1;39;49m]\u001b[0m\u001b[39;49m A new release of pip is available: \u001b[0m\u001b[31;49m24.0\u001b[0m\u001b[39;49m -> \u001b[0m\u001b[32;49m24.3.1\u001b[0m\n",
      "\u001b[1m[\u001b[0m\u001b[34;49mnotice\u001b[0m\u001b[1;39;49m]\u001b[0m\u001b[39;49m To update, run: \u001b[0m\u001b[32;49mpython3 -m pip install --upgrade pip\u001b[0m\n",
      "Note: you may need to restart the kernel to use updated packages.\n",
      "Requirement already satisfied: vaderSentiment in /Library/Frameworks/Python.framework/Versions/3.12/lib/python3.12/site-packages (3.3.2)\n",
      "Requirement already satisfied: requests in /Library/Frameworks/Python.framework/Versions/3.12/lib/python3.12/site-packages (from vaderSentiment) (2.31.0)\n",
      "Requirement already satisfied: charset-normalizer<4,>=2 in /Library/Frameworks/Python.framework/Versions/3.12/lib/python3.12/site-packages (from requests->vaderSentiment) (3.3.2)\n",
      "Requirement already satisfied: idna<4,>=2.5 in /Library/Frameworks/Python.framework/Versions/3.12/lib/python3.12/site-packages (from requests->vaderSentiment) (3.7)\n",
      "Requirement already satisfied: urllib3<3,>=1.21.1 in /Library/Frameworks/Python.framework/Versions/3.12/lib/python3.12/site-packages (from requests->vaderSentiment) (2.2.1)\n",
      "Requirement already satisfied: certifi>=2017.4.17 in /Library/Frameworks/Python.framework/Versions/3.12/lib/python3.12/site-packages (from requests->vaderSentiment) (2024.2.2)\n",
      "\n",
      "\u001b[1m[\u001b[0m\u001b[34;49mnotice\u001b[0m\u001b[1;39;49m]\u001b[0m\u001b[39;49m A new release of pip is available: \u001b[0m\u001b[31;49m24.0\u001b[0m\u001b[39;49m -> \u001b[0m\u001b[32;49m24.3.1\u001b[0m\n",
      "\u001b[1m[\u001b[0m\u001b[34;49mnotice\u001b[0m\u001b[1;39;49m]\u001b[0m\u001b[39;49m To update, run: \u001b[0m\u001b[32;49mpython3 -m pip install --upgrade pip\u001b[0m\n",
      "Note: you may need to restart the kernel to use updated packages.\n"
     ]
    }
   ],
   "source": [
    "%pip install textblob\n",
    "%pip install vaderSentiment"
   ]
  },
  {
   "cell_type": "code",
   "execution_count": 32,
   "metadata": {},
   "outputs": [],
   "source": [
    "from textblob import TextBlob\n",
    "from vaderSentiment.vaderSentiment import SentimentIntensityAnalyzer\n"
   ]
  },
  {
   "cell_type": "markdown",
   "metadata": {},
   "source": [
    "## Preprocess Data"
   ]
  },
  {
   "cell_type": "code",
   "execution_count": 33,
   "metadata": {},
   "outputs": [],
   "source": [
    "import re\n",
    "\n",
    "# Function to preprocess text\n",
    "def clean_text(text):\n",
    "    # Remove special characters and multiple spaces\n",
    "    return re.sub(r'[^\\w\\s]', '', str(text)).strip()\n",
    "\n",
    "# Apply cleaning\n",
    "df[\"Cleaned_Text\"] = df[\"Text\"].apply(clean_text)\n"
   ]
  },
  {
   "cell_type": "markdown",
   "metadata": {},
   "source": [
    "## Sentiment Analysis"
   ]
  },
  {
   "cell_type": "markdown",
   "metadata": {},
   "source": [
    "### Per Version"
   ]
  },
  {
   "cell_type": "code",
   "execution_count": 34,
   "metadata": {},
   "outputs": [
    {
     "ename": "KeyError",
     "evalue": "'Column not found: Sentiment_VADER'",
     "output_type": "error",
     "traceback": [
      "\u001b[0;31m---------------------------------------------------------------------------\u001b[0m",
      "\u001b[0;31mKeyError\u001b[0m                                  Traceback (most recent call last)",
      "Cell \u001b[0;32mIn[34], line 2\u001b[0m\n\u001b[1;32m      1\u001b[0m \u001b[38;5;66;03m# Overall sentiment per version\u001b[39;00m\n\u001b[0;32m----> 2\u001b[0m overall_sentiment \u001b[38;5;241m=\u001b[39m \u001b[43mdf\u001b[49m\u001b[38;5;241;43m.\u001b[39;49m\u001b[43mgroupby\u001b[49m\u001b[43m(\u001b[49m\u001b[38;5;124;43m\"\u001b[39;49m\u001b[38;5;124;43mVersion\u001b[39;49m\u001b[38;5;124;43m\"\u001b[39;49m\u001b[43m)\u001b[49m\u001b[43m[\u001b[49m\u001b[38;5;124;43m\"\u001b[39;49m\u001b[38;5;124;43mSentiment_VADER\u001b[39;49m\u001b[38;5;124;43m\"\u001b[39;49m\u001b[43m]\u001b[49m\u001b[38;5;241m.\u001b[39mmean()\u001b[38;5;241m.\u001b[39mreset_index()\n\u001b[1;32m      3\u001b[0m overall_sentiment\u001b[38;5;241m.\u001b[39mcolumns \u001b[38;5;241m=\u001b[39m [\u001b[38;5;124m\"\u001b[39m\u001b[38;5;124mVersion\u001b[39m\u001b[38;5;124m\"\u001b[39m, \u001b[38;5;124m\"\u001b[39m\u001b[38;5;124mAverage Sentiment\u001b[39m\u001b[38;5;124m\"\u001b[39m]\n\u001b[1;32m      5\u001b[0m \u001b[38;5;66;03m# Display the overall sentiment\u001b[39;00m\n",
      "File \u001b[0;32m/Library/Frameworks/Python.framework/Versions/3.12/lib/python3.12/site-packages/pandas/core/groupby/generic.py:1951\u001b[0m, in \u001b[0;36mDataFrameGroupBy.__getitem__\u001b[0;34m(self, key)\u001b[0m\n\u001b[1;32m   1944\u001b[0m \u001b[38;5;28;01mif\u001b[39;00m \u001b[38;5;28misinstance\u001b[39m(key, \u001b[38;5;28mtuple\u001b[39m) \u001b[38;5;129;01mand\u001b[39;00m \u001b[38;5;28mlen\u001b[39m(key) \u001b[38;5;241m>\u001b[39m \u001b[38;5;241m1\u001b[39m:\n\u001b[1;32m   1945\u001b[0m     \u001b[38;5;66;03m# if len == 1, then it becomes a SeriesGroupBy and this is actually\u001b[39;00m\n\u001b[1;32m   1946\u001b[0m     \u001b[38;5;66;03m# valid syntax, so don't raise\u001b[39;00m\n\u001b[1;32m   1947\u001b[0m     \u001b[38;5;28;01mraise\u001b[39;00m \u001b[38;5;167;01mValueError\u001b[39;00m(\n\u001b[1;32m   1948\u001b[0m         \u001b[38;5;124m\"\u001b[39m\u001b[38;5;124mCannot subset columns with a tuple with more than one element. \u001b[39m\u001b[38;5;124m\"\u001b[39m\n\u001b[1;32m   1949\u001b[0m         \u001b[38;5;124m\"\u001b[39m\u001b[38;5;124mUse a list instead.\u001b[39m\u001b[38;5;124m\"\u001b[39m\n\u001b[1;32m   1950\u001b[0m     )\n\u001b[0;32m-> 1951\u001b[0m \u001b[38;5;28;01mreturn\u001b[39;00m \u001b[38;5;28;43msuper\u001b[39;49m\u001b[43m(\u001b[49m\u001b[43m)\u001b[49m\u001b[38;5;241;43m.\u001b[39;49m\u001b[38;5;21;43m__getitem__\u001b[39;49m\u001b[43m(\u001b[49m\u001b[43mkey\u001b[49m\u001b[43m)\u001b[49m\n",
      "File \u001b[0;32m/Library/Frameworks/Python.framework/Versions/3.12/lib/python3.12/site-packages/pandas/core/base.py:244\u001b[0m, in \u001b[0;36mSelectionMixin.__getitem__\u001b[0;34m(self, key)\u001b[0m\n\u001b[1;32m    242\u001b[0m \u001b[38;5;28;01melse\u001b[39;00m:\n\u001b[1;32m    243\u001b[0m     \u001b[38;5;28;01mif\u001b[39;00m key \u001b[38;5;129;01mnot\u001b[39;00m \u001b[38;5;129;01min\u001b[39;00m \u001b[38;5;28mself\u001b[39m\u001b[38;5;241m.\u001b[39mobj:\n\u001b[0;32m--> 244\u001b[0m         \u001b[38;5;28;01mraise\u001b[39;00m \u001b[38;5;167;01mKeyError\u001b[39;00m(\u001b[38;5;124mf\u001b[39m\u001b[38;5;124m\"\u001b[39m\u001b[38;5;124mColumn not found: \u001b[39m\u001b[38;5;132;01m{\u001b[39;00mkey\u001b[38;5;132;01m}\u001b[39;00m\u001b[38;5;124m\"\u001b[39m)\n\u001b[1;32m    245\u001b[0m     ndim \u001b[38;5;241m=\u001b[39m \u001b[38;5;28mself\u001b[39m\u001b[38;5;241m.\u001b[39mobj[key]\u001b[38;5;241m.\u001b[39mndim\n\u001b[1;32m    246\u001b[0m     \u001b[38;5;28;01mreturn\u001b[39;00m \u001b[38;5;28mself\u001b[39m\u001b[38;5;241m.\u001b[39m_gotitem(key, ndim\u001b[38;5;241m=\u001b[39mndim)\n",
      "\u001b[0;31mKeyError\u001b[0m: 'Column not found: Sentiment_VADER'"
     ]
    }
   ],
   "source": [
    "# Overall sentiment per version\n",
    "overall_sentiment = df.groupby(\"Version\")[\"Sentiment_VADER\"].mean().reset_index()\n",
    "overall_sentiment.columns = [\"Version\", \"Average Sentiment\"]\n",
    "\n",
    "# Display the overall sentiment\n",
    "print(overall_sentiment)\n",
    "\n",
    "# Plot overall sentiment\n",
    "import matplotlib.pyplot as plt\n",
    "\n",
    "plt.figure(figsize=(10, 6))\n",
    "plt.bar(overall_sentiment[\"Version\"], overall_sentiment[\"Average Sentiment\"], color=\"skyblue\")\n",
    "plt.title(\"Overall Sentiment by Version\")\n",
    "plt.ylabel(\"Average Sentiment (VADER)\")\n",
    "plt.xlabel(\"Version\")\n",
    "plt.show()\n"
   ]
  },
  {
   "cell_type": "code",
   "execution_count": null,
   "metadata": {},
   "outputs": [],
   "source": [
    "# Overall sentiment per version\n",
    "overall_sentiment_textblob = df.groupby(\"Version\")[\"Sentiment_TextBlob\"].mean().reset_index()\n",
    "overall_sentiment_textblob.columns = [\"Version\", \"Average Sentiment (TextBlob)\"]\n",
    "\n",
    "# Display the overall sentiment\n",
    "print(overall_sentiment_textblob)\n",
    "\n",
    "# Plot overall sentiment\n",
    "plt.figure(figsize=(10, 6))\n",
    "plt.bar(\n",
    "    overall_sentiment_textblob[\"Version\"],\n",
    "    overall_sentiment_textblob[\"Average Sentiment (TextBlob)\"],\n",
    "    color=\"lightgreen\",\n",
    ")\n",
    "plt.title(\"Overall Sentiment by Version (TextBlob)\")\n",
    "plt.ylabel(\"Average Sentiment (TextBlob)\")\n",
    "plt.xlabel(\"Version\")\n",
    "plt.show()\n"
   ]
  },
  {
   "cell_type": "markdown",
   "metadata": {},
   "source": [
    "### Per book"
   ]
  },
  {
   "cell_type": "code",
   "execution_count": null,
   "metadata": {},
   "outputs": [],
   "source": [
    "# Sentiment per version per book\n",
    "sentiment_by_version_book = (\n",
    "    df.groupby([\"Version\", \"Book\"])[\"Sentiment_VADER\"]\n",
    "    .mean()\n",
    "    .reset_index()\n",
    "    .rename(columns={\"Sentiment_VADER\": \"Average Sentiment\"})\n",
    ")\n",
    "\n",
    "# Display the sentiment per version per book\n",
    "print(sentiment_by_version_book)\n",
    "\n",
    "# Plot sentiment per book for each version\n",
    "import seaborn as sns\n",
    "\n",
    "plt.figure(figsize=(14, 8))\n",
    "sns.barplot(\n",
    "    data=sentiment_by_version_book,\n",
    "    x=\"Average Sentiment\",\n",
    "    y=\"Book\",\n",
    "    hue=\"Version\",\n",
    "    dodge=True,\n",
    ")\n",
    "plt.title(\"Sentiment by Version and Book\")\n",
    "plt.xlabel(\"Average Sentiment (VADER)\")\n",
    "plt.ylabel(\"Book\")\n",
    "plt.legend(title=\"Version\", loc=\"lower right\")\n",
    "plt.tight_layout()\n",
    "plt.show()\n"
   ]
  },
  {
   "cell_type": "code",
   "execution_count": null,
   "metadata": {},
   "outputs": [],
   "source": [
    "import seaborn as sns\n",
    "import matplotlib.pyplot as plt\n",
    "\n",
    "# Set figure size and style\n",
    "plt.figure(figsize=(10, 14))\n",
    "sns.set_theme(style=\"whitegrid\")\n",
    "\n",
    "# Sort the data by sentiment for better organization\n",
    "sentiment_by_version_book_textblob = sentiment_by_version_book_textblob.sort_values(by=\"Average Sentiment (TextBlob)\", ascending=False)\n",
    "\n",
    "# Create the barplot\n",
    "sns.barplot(\n",
    "    data=sentiment_by_version_book_textblob,\n",
    "    x=\"Average Sentiment (TextBlob)\",\n",
    "    y=\"Book\",\n",
    "    hue=\"Version\",\n",
    "    dodge=True,\n",
    "    palette=\"muted\",  # Muted color palette for clarity\n",
    ")\n",
    "\n",
    "# Adjust plot aesthetics\n",
    "plt.title(\"Sentiment by Version and Book (TextBlob)\", fontsize=16)\n",
    "plt.xlabel(\"Average Sentiment (TextBlob)\", fontsize=12)\n",
    "plt.ylabel(\"Book\", fontsize=12)\n",
    "plt.legend(title=\"Version\", loc=\"upper right\")\n",
    "plt.tight_layout()\n",
    "\n",
    "# Rotate y-axis labels for better readability\n",
    "plt.yticks(fontsize=10)\n",
    "plt.xticks(fontsize=10)\n",
    "plt.show()\n",
    "\n"
   ]
  },
  {
   "cell_type": "markdown",
   "metadata": {},
   "source": [
    "## Over chapters and verses"
   ]
  }
 ],
 "metadata": {
  "kernelspec": {
   "display_name": "Python 3",
   "language": "python",
   "name": "python3"
  },
  "language_info": {
   "codemirror_mode": {
    "name": "ipython",
    "version": 3
   },
   "file_extension": ".py",
   "mimetype": "text/x-python",
   "name": "python",
   "nbconvert_exporter": "python",
   "pygments_lexer": "ipython3",
   "version": "3.12.3"
  }
 },
 "nbformat": 4,
 "nbformat_minor": 2
}
