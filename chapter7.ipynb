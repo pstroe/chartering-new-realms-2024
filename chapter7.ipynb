{
 "cells": [
  {
   "cell_type": "markdown",
   "id": "4d655c7c",
   "metadata": {},
   "source": [
    "# Chapter 7\n",
    "\n",
    "The medium of the graphic novel is an under-researched topic in field of the digital humanities. Datasets and corpora are few and far between and the ones that exist are very limited and take a long time to be annotated. This chapter aims to train a multimodal language model to automatically annotate graphic narrative media, using the COMICS dataset, developed by Iyyer et al. (2017) as training data and based on software from the Graphic Narrative Corpus from Dunst et al.(2017). The annotation data will be in the format of Dunst et al.'s Graphic Narrative Markup Language (GNML). Both Iyyer et al. and Dunst et al. have developed resources to annotate graphic narratives or comics, but neither the code used in the COMICS dataset or the M3-editor software of the GNC are fully automated, an goal we seek to achieve. All in all, the work we need to do now will automatically annotate graphic narrative media, allowing for the quick digitisation of comics data.\n",
    "\n",
    "We, the authors of this chapter, are big fans of manga and comics. And through our interest, we have met all sorts of different people, through conventions, or through Fanclubs. One of them, and probably the most interesting person we've met, is a blind man, who is deeply obsessed with golden age American comic books and has chosen to remain anonymous. He explained to us that he usually has his wife read and describe the scenes to him, but unfortunately, she is a busy woman and can't afford to spend all her time reading to him. It was at this point that we, touched by his story, agreed to find a way to help. Of course, we were also busy people, so reading the comics ourselves was not an option, which is why we decided to automate the process by training a multi-modal language model to digitise comics, thus allowing for, among others, the easy and fast creation of audio descriptions.\n",
    "\n",
    "Go into methods, but not too long so reader still stays entertained.\n",
    "\n",
    "-> By creating this blind character, there are some emotional stakes to our work. I.e. if we fail, our blind friend will not be able to listen to comics. This can make the reader get emotionally invested and pay attention.\n",
    "\n",
    "\n",
    "\n",
    "Structure:\n",
    "\n",
    "Anecdote/something entertaining to draw the reader's attention\n",
    "Dry, scientific stuff\n",
    "Before losing the reader, drop another entertaining part\n",
    "\n",
    "How to make entertaining:\n",
    "Suspense/Tension?\n",
    "Funny (made-up) stories\n",
    "Emotional investment \n",
    "\n",
    "\n",
    "Reasons for this project:\n",
    "We have a blind friend\n",
    "Audiobooks exist, but audiocomicbooks don't\n",
    "Expensive, limited, hard to find\n",
    "I didn't wanna read the new volume of xyz so I listened to the summary\n",
    "\n",
    "Similar works:\n",
    "\n",
    "Methods:\n",
    "Try to imagine a helpful assistant"
   ]
  }
 ],
 "metadata": {
  "kernelspec": {
   "display_name": "Python 3",
   "language": "pyhton",
   "name": "python3"
  },
  "thebe": true
 },
 "nbformat": 4,
 "nbformat_minor": 5
}
